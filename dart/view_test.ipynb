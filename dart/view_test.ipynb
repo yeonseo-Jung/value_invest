{
 "cells": [
  {
   "cell_type": "code",
   "execution_count": 1,
   "metadata": {},
   "outputs": [
    {
     "ename": "ImportError",
     "evalue": "attempted relative import with no known parent package",
     "output_type": "error",
     "traceback": [
      "\u001b[0;31m---------------------------------------------------------------------------\u001b[0m",
      "\u001b[0;31mImportError\u001b[0m                               Traceback (most recent call last)",
      "\u001b[1;32m/Users/yeonseosla/Desktop/value_invest/value_invest/dart/view_test.ipynb Cell 1\u001b[0m in \u001b[0;36m<cell line: 5>\u001b[0;34m()\u001b[0m\n\u001b[1;32m      <a href='vscode-notebook-cell:/Users/yeonseosla/Desktop/value_invest/value_invest/dart/view_test.ipynb#W0sZmlsZQ%3D%3D?line=1'>2</a>\u001b[0m \u001b[39mfrom\u001b[39;00m \u001b[39mdjango\u001b[39;00m\u001b[39m.\u001b[39;00m\u001b[39mshortcuts\u001b[39;00m \u001b[39mimport\u001b[39;00m render, get_object_or_404\n\u001b[1;32m      <a href='vscode-notebook-cell:/Users/yeonseosla/Desktop/value_invest/value_invest/dart/view_test.ipynb#W0sZmlsZQ%3D%3D?line=2'>3</a>\u001b[0m \u001b[39mfrom\u001b[39;00m \u001b[39mdjango\u001b[39;00m\u001b[39m.\u001b[39;00m\u001b[39mhttp\u001b[39;00m \u001b[39mimport\u001b[39;00m HttpResponse\n\u001b[0;32m----> <a href='vscode-notebook-cell:/Users/yeonseosla/Desktop/value_invest/value_invest/dart/view_test.ipynb#W0sZmlsZQ%3D%3D?line=4'>5</a>\u001b[0m \u001b[39mfrom\u001b[39;00m \u001b[39m.\u001b[39;00m\u001b[39mmodels\u001b[39;00m \u001b[39mimport\u001b[39;00m Amounts\n\u001b[1;32m      <a href='vscode-notebook-cell:/Users/yeonseosla/Desktop/value_invest/value_invest/dart/view_test.ipynb#W0sZmlsZQ%3D%3D?line=6'>7</a>\u001b[0m \u001b[39mdef\u001b[39;00m \u001b[39mindex\u001b[39m(request):\n\u001b[1;32m      <a href='vscode-notebook-cell:/Users/yeonseosla/Desktop/value_invest/value_invest/dart/view_test.ipynb#W0sZmlsZQ%3D%3D?line=7'>8</a>\u001b[0m     latest_amounts \u001b[39m=\u001b[39m Amounts\u001b[39m.\u001b[39mobjects\u001b[39m.\u001b[39morder_by(\u001b[39m'\u001b[39m\u001b[39mstock_code\u001b[39m\u001b[39m'\u001b[39m)[:\u001b[39m250\u001b[39m]\n",
      "\u001b[0;31mImportError\u001b[0m: attempted relative import with no known parent package"
     ]
    }
   ],
   "source": [
    "from django.http import Http404\n",
    "from django.shortcuts import render, get_object_or_404\n",
    "from django.http import HttpResponse\n",
    "\n",
    "from .models import Amounts\n",
    "\n",
    "def index(request):\n",
    "    latest_amounts = Amounts.objects.order_by('stock_code')[:250]\n",
    "    data = {\n",
    "        'latest_amounts': latest_amounts\n",
    "    }\n",
    "    return render(request, 'dart/index.html', data)\n",
    "\n",
    "def detail(request, stock_code):\n",
    "    try:\n",
    "        amounts = Amounts.objects.filter(stock_code=stock_code)\n",
    "    except Amounts.DoesNotExist:\n",
    "        raise Http404(\"Amounts does not exist\")\n",
    "    # amounts = get_object_or_404(Amounts, stock_code=stock_code)\n",
    "    return render(request, 'dart/detail.html', {'amounts': amounts})\n",
    "    \n",
    "\n",
    "# def results(request, question_id):\n",
    "#     response = \"You're looking at the results of question %s.\"\n",
    "#     return HttpResponse(response % question_id)\n",
    "\n",
    "# def vote(request, question_id):\n",
    "#     return HttpResponse(\"You're voting on question %s.\" % question_id)"
   ]
  },
  {
   "cell_type": "code",
   "execution_count": 1,
   "metadata": {},
   "outputs": [
    {
     "ename": "ValueError",
     "evalue": "could not convert string to float: ''",
     "output_type": "error",
     "traceback": [
      "\u001b[0;31m---------------------------------------------------------------------------\u001b[0m",
      "\u001b[0;31mValueError\u001b[0m                                Traceback (most recent call last)",
      "\u001b[1;32m/Users/yeonseosla/Desktop/value_invest/value_invest/dart/view_test.ipynb Cell 2\u001b[0m in \u001b[0;36m<cell line: 1>\u001b[0;34m()\u001b[0m\n\u001b[0;32m----> <a href='vscode-notebook-cell:/Users/yeonseosla/Desktop/value_invest/value_invest/dart/view_test.ipynb#W1sZmlsZQ%3D%3D?line=0'>1</a>\u001b[0m \u001b[39mfloat\u001b[39;49m(\u001b[39m'\u001b[39;49m\u001b[39m'\u001b[39;49m)\n",
      "\u001b[0;31mValueError\u001b[0m: could not convert string to float: ''"
     ]
    }
   ],
   "source": [
    "float('')"
   ]
  },
  {
   "cell_type": "code",
   "execution_count": 3,
   "metadata": {},
   "outputs": [],
   "source": [
    "a = ''\n",
    "if a == '':\n",
    "    a = None\n",
    "else:\n",
    "    print(a)"
   ]
  },
  {
   "cell_type": "code",
   "execution_count": null,
   "metadata": {},
   "outputs": [],
   "source": []
  }
 ],
 "metadata": {
  "kernelspec": {
   "display_name": "Python 3.10.4 ('venv')",
   "language": "python",
   "name": "python3"
  },
  "language_info": {
   "codemirror_mode": {
    "name": "ipython",
    "version": 3
   },
   "file_extension": ".py",
   "mimetype": "text/x-python",
   "name": "python",
   "nbconvert_exporter": "python",
   "pygments_lexer": "ipython3",
   "version": "3.10.4"
  },
  "orig_nbformat": 4,
  "vscode": {
   "interpreter": {
    "hash": "9bf4960e0944d0187d62a18875a8b32193841666fde4904048c0d8eeed8d33aa"
   }
  }
 },
 "nbformat": 4,
 "nbformat_minor": 2
}
